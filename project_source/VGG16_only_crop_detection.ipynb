{
 "cells": [
  {
   "cell_type": "code",
   "execution_count": 1,
   "metadata": {},
   "outputs": [],
   "source": [
    "import tensorflow as tf\n",
    "import PIL\n",
    "import time"
   ]
  },
  {
   "cell_type": "code",
   "execution_count": 2,
   "metadata": {},
   "outputs": [
    {
     "name": "stderr",
     "output_type": "stream",
     "text": [
      "Using TensorFlow backend.\n"
     ]
    }
   ],
   "source": [
    "from keras.applications import VGG16\n",
    "from keras.callbacks import ModelCheckpoint,TensorBoard"
   ]
  },
  {
   "cell_type": "code",
   "execution_count": 48,
   "metadata": {},
   "outputs": [],
   "source": [
    "vgg_conv = VGG16(weights='imagenet',include_top=False,input_shape=(256, 256, 3))"
   ]
  },
  {
   "cell_type": "code",
   "execution_count": 49,
   "metadata": {},
   "outputs": [],
   "source": [
    "# Freeze the layers except the last 4 layers\n",
    "for layer in vgg_conv.layers[:-3]:\n",
    "    layer.trainable = False"
   ]
  },
  {
   "cell_type": "code",
   "execution_count": 50,
   "metadata": {},
   "outputs": [
    {
     "name": "stdout",
     "output_type": "stream",
     "text": [
      "<keras.engine.input_layer.InputLayer object at 0x000002605F0DF6D8> False\n",
      "<keras.layers.convolutional.Conv2D object at 0x000002605F0DF8D0> False\n",
      "<keras.layers.convolutional.Conv2D object at 0x000002605F0DFDA0> False\n",
      "<keras.layers.pooling.MaxPooling2D object at 0x000002605F548BA8> False\n",
      "<keras.layers.convolutional.Conv2D object at 0x000002605F565240> False\n",
      "<keras.layers.convolutional.Conv2D object at 0x000002605EAA6CC0> False\n",
      "<keras.layers.pooling.MaxPooling2D object at 0x000002605EADDDD8> False\n",
      "<keras.layers.convolutional.Conv2D object at 0x000002605EADDC18> False\n",
      "<keras.layers.convolutional.Conv2D object at 0x000002605EAF4B38> False\n",
      "<keras.layers.convolutional.Conv2D object at 0x000002605EB28400> False\n",
      "<keras.layers.pooling.MaxPooling2D object at 0x000002605EB48DD8> False\n",
      "<keras.layers.convolutional.Conv2D object at 0x000002605EB48278> False\n",
      "<keras.layers.convolutional.Conv2D object at 0x000002605EB765F8> False\n",
      "<keras.layers.convolutional.Conv2D object at 0x000002605EB979B0> False\n",
      "<keras.layers.pooling.MaxPooling2D object at 0x000002605EBC7EF0> False\n",
      "<keras.layers.convolutional.Conv2D object at 0x000002605EBC7780> False\n",
      "<keras.layers.convolutional.Conv2D object at 0x000002605EBFE400> True\n",
      "<keras.layers.convolutional.Conv2D object at 0x000002605EC17F98> True\n",
      "<keras.layers.pooling.MaxPooling2D object at 0x000002605EC4EBA8> True\n"
     ]
    }
   ],
   "source": [
    "# Check the trainable status of the individual layers\n",
    "for layer in vgg_conv.layers:\n",
    "    print(layer, layer.trainable)"
   ]
  },
  {
   "cell_type": "code",
   "execution_count": 51,
   "metadata": {},
   "outputs": [
    {
     "name": "stdout",
     "output_type": "stream",
     "text": [
      "_________________________________________________________________\n",
      "Layer (type)                 Output Shape              Param #   \n",
      "=================================================================\n",
      "input_3 (InputLayer)         (None, 256, 256, 3)       0         \n",
      "_________________________________________________________________\n",
      "block1_conv1 (Conv2D)        (None, 256, 256, 64)      1792      \n",
      "_________________________________________________________________\n",
      "block1_conv2 (Conv2D)        (None, 256, 256, 64)      36928     \n",
      "_________________________________________________________________\n",
      "block1_pool (MaxPooling2D)   (None, 128, 128, 64)      0         \n",
      "_________________________________________________________________\n",
      "block2_conv1 (Conv2D)        (None, 128, 128, 128)     73856     \n",
      "_________________________________________________________________\n",
      "block2_conv2 (Conv2D)        (None, 128, 128, 128)     147584    \n",
      "_________________________________________________________________\n",
      "block2_pool (MaxPooling2D)   (None, 64, 64, 128)       0         \n",
      "_________________________________________________________________\n",
      "block3_conv1 (Conv2D)        (None, 64, 64, 256)       295168    \n",
      "_________________________________________________________________\n",
      "block3_conv2 (Conv2D)        (None, 64, 64, 256)       590080    \n",
      "_________________________________________________________________\n",
      "block3_conv3 (Conv2D)        (None, 64, 64, 256)       590080    \n",
      "_________________________________________________________________\n",
      "block3_pool (MaxPooling2D)   (None, 32, 32, 256)       0         \n",
      "_________________________________________________________________\n",
      "block4_conv1 (Conv2D)        (None, 32, 32, 512)       1180160   \n",
      "_________________________________________________________________\n",
      "block4_conv2 (Conv2D)        (None, 32, 32, 512)       2359808   \n",
      "_________________________________________________________________\n",
      "block4_conv3 (Conv2D)        (None, 32, 32, 512)       2359808   \n",
      "_________________________________________________________________\n",
      "block4_pool (MaxPooling2D)   (None, 16, 16, 512)       0         \n",
      "_________________________________________________________________\n",
      "block5_conv1 (Conv2D)        (None, 16, 16, 512)       2359808   \n",
      "_________________________________________________________________\n",
      "block5_conv2 (Conv2D)        (None, 16, 16, 512)       2359808   \n",
      "_________________________________________________________________\n",
      "block5_conv3 (Conv2D)        (None, 16, 16, 512)       2359808   \n",
      "_________________________________________________________________\n",
      "block5_pool (MaxPooling2D)   (None, 8, 8, 512)         0         \n",
      "_________________________________________________________________\n",
      "global_average_pooling2d_3 ( (None, 512)               0         \n",
      "_________________________________________________________________\n",
      "dense_7 (Dense)              (None, 1024)              525312    \n",
      "_________________________________________________________________\n",
      "dropout_5 (Dropout)          (None, 1024)              0         \n",
      "_________________________________________________________________\n",
      "dense_8 (Dense)              (None, 256)               262400    \n",
      "_________________________________________________________________\n",
      "dropout_6 (Dropout)          (None, 256)               0         \n",
      "_________________________________________________________________\n",
      "dense_9 (Dense)              (None, 14)                3598      \n",
      "=================================================================\n",
      "Total params: 15,505,998\n",
      "Trainable params: 5,510,926\n",
      "Non-trainable params: 9,995,072\n",
      "_________________________________________________________________\n"
     ]
    }
   ],
   "source": [
    "from keras import models\n",
    "from keras import layers\n",
    "from keras import optimizers\n",
    "from keras.models import Model\n",
    "from keras.layers import Dense, GlobalAveragePooling2D,Dropout\n",
    "# get layers and add average pooling layer\n",
    "\n",
    "x = vgg_conv.output\n",
    "x = GlobalAveragePooling2D()(x)\n",
    "x = Dense(1024, activation='relu')(x)\n",
    "x = Dropout(0.5)(x)\n",
    "x = Dense(256, activation='relu')(x)\n",
    "x = Dropout(0.3)(x)\n",
    "\n",
    "# add output layer\n",
    "predictions = Dense(14, activation='softmax')(x)\n",
    "\n",
    "model = Model(inputs=vgg_conv.input, outputs=predictions)\n",
    " \n",
    "# Show a summary of the model. Check the number of trainable parameters\n",
    "model.summary()"
   ]
  },
  {
   "cell_type": "code",
   "execution_count": 52,
   "metadata": {},
   "outputs": [],
   "source": [
    "from keras.preprocessing.image import ImageDataGenerator"
   ]
  },
  {
   "cell_type": "code",
   "execution_count": 53,
   "metadata": {},
   "outputs": [],
   "source": [
    "train_datagen = ImageDataGenerator(rescale=1./255,\n",
    "                                   width_shift_range=0.2,\n",
    "                                   height_shift_range=0.2,\n",
    "                                   shear_range=0.2,\n",
    "                                   zoom_range=0.2,\n",
    "                                   horizontal_flip=True)\n",
    "validation_datagen = ImageDataGenerator(rescale=1./255)"
   ]
  },
  {
   "cell_type": "code",
   "execution_count": 54,
   "metadata": {},
   "outputs": [],
   "source": [
    "train_batchsize = 32\n",
    "val_batchsize = 10\n",
    "img_size=256\n",
    "train_dir=\"data/raw/crop_segment/train\"\n",
    "val_dir=\"data/raw/crop_segment/val\""
   ]
  },
  {
   "cell_type": "code",
   "execution_count": 55,
   "metadata": {},
   "outputs": [
    {
     "name": "stdout",
     "output_type": "stream",
     "text": [
      "Found 48863 images belonging to 14 classes.\n"
     ]
    }
   ],
   "source": [
    "train_generator = train_datagen.flow_from_directory(\n",
    "        train_dir,\n",
    "        target_size=(img_size, img_size),\n",
    "        batch_size=train_batchsize,\n",
    "        class_mode='categorical',\n",
    "        color_mode=\"rgb\",\n",
    "        shuffle=True\n",
    ")"
   ]
  },
  {
   "cell_type": "code",
   "execution_count": 56,
   "metadata": {},
   "outputs": [
    {
     "name": "stdout",
     "output_type": "stream",
     "text": [
      "Found 5436 images belonging to 14 classes.\n"
     ]
    }
   ],
   "source": [
    "validation_generator = validation_datagen.flow_from_directory(\n",
    "        val_dir,\n",
    "        target_size=(img_size, img_size),\n",
    "        batch_size=val_batchsize,\n",
    "        class_mode='categorical',\n",
    "        color_mode=\"rgb\",\n",
    "        shuffle=False)"
   ]
  },
  {
   "cell_type": "code",
   "execution_count": 29,
   "metadata": {},
   "outputs": [
    {
     "data": {
      "text/plain": [
       "{'apple': 0,\n",
       " 'blueberry': 1,\n",
       " 'cherry': 2,\n",
       " 'corn': 3,\n",
       " 'grape': 4,\n",
       " 'orange': 5,\n",
       " 'peach': 6,\n",
       " 'pepper': 7,\n",
       " 'potato': 8,\n",
       " 'raspberry': 9,\n",
       " 'soybean': 10,\n",
       " 'squash': 11,\n",
       " 'strawberry': 12,\n",
       " 'tomato': 13}"
      ]
     },
     "execution_count": 29,
     "metadata": {},
     "output_type": "execute_result"
    }
   ],
   "source": [
    "dic=train_generator.class_indices\n",
    "dic"
   ]
  },
  {
   "cell_type": "code",
   "execution_count": null,
   "metadata": {},
   "outputs": [],
   "source": []
  },
  {
   "cell_type": "code",
   "execution_count": 30,
   "metadata": {},
   "outputs": [],
   "source": [
    "# Compile the model\n",
    "model.compile(loss='categorical_crossentropy',\n",
    "              optimizer=optimizers.RMSprop(lr=1e-4),\n",
    "              metrics=['acc'])"
   ]
  },
  {
   "cell_type": "code",
   "execution_count": 38,
   "metadata": {},
   "outputs": [],
   "source": [
    "checkpoint = ModelCheckpoint(\"weights/VGG16_onlycropdetect/vgg16_onlycropdetect__best.hdf5\",monitor='val_acc',verbose=1,save_best_only=True,mode='max')"
   ]
  },
  {
   "cell_type": "code",
   "execution_count": 32,
   "metadata": {},
   "outputs": [
    {
     "name": "stdout",
     "output_type": "stream",
     "text": [
      "WARNING:tensorflow:From D:\\programs\\anaconda\\envs\\dl\\lib\\site-packages\\tensorflow\\python\\ops\\math_ops.py:3066: to_int32 (from tensorflow.python.ops.math_ops) is deprecated and will be removed in a future version.\n",
      "Instructions for updating:\n",
      "Use tf.cast instead.\n",
      "Epoch 1/15\n",
      "1527/1526 [==============================] - 1856s 1s/step - loss: 0.3532 - acc: 0.8921 - val_loss: 0.0917 - val_acc: 0.9720\n",
      "\n",
      "Epoch 00001: val_acc improved from -inf to 0.97204, saving model to weights/VGG16_onlycropdetect/vgg16_onlycropdetect__best.hdf5\n",
      "Epoch 2/15\n",
      "1527/1526 [==============================] - 1147s 751ms/step - loss: 0.0875 - acc: 0.9732 - val_loss: 0.0409 - val_acc: 0.9869\n",
      "\n",
      "Epoch 00002: val_acc improved from 0.97204 to 0.98694, saving model to weights/VGG16_onlycropdetect/vgg16_onlycropdetect__best.hdf5\n",
      "Epoch 3/15\n",
      "1527/1526 [==============================] - 1015s 665ms/step - loss: 0.0674 - acc: 0.9810 - val_loss: 0.0317 - val_acc: 0.9919\n",
      "\n",
      "Epoch 00003: val_acc improved from 0.98694 to 0.99191, saving model to weights/VGG16_onlycropdetect/vgg16_onlycropdetect__best.hdf5\n",
      "Epoch 4/15\n",
      "1527/1526 [==============================] - 1019s 667ms/step - loss: 0.0575 - acc: 0.9843 - val_loss: 0.0265 - val_acc: 0.9923\n",
      "\n",
      "Epoch 00004: val_acc improved from 0.99191 to 0.99227, saving model to weights/VGG16_onlycropdetect/vgg16_onlycropdetect__best.hdf5\n",
      "Epoch 5/15\n",
      "1527/1526 [==============================] - 1016s 665ms/step - loss: 0.0555 - acc: 0.9850 - val_loss: 0.0956 - val_acc: 0.9814\n",
      "\n",
      "Epoch 00005: val_acc did not improve from 0.99227\n",
      "Epoch 6/15\n",
      "1527/1526 [==============================] - 1009s 661ms/step - loss: 0.0528 - acc: 0.9867 - val_loss: 0.0712 - val_acc: 0.9864\n",
      "\n",
      "Epoch 00006: val_acc did not improve from 0.99227\n",
      "Epoch 7/15\n",
      "1527/1526 [==============================] - 1005s 658ms/step - loss: 0.0544 - acc: 0.9872 - val_loss: 0.1163 - val_acc: 0.9790\n",
      "\n",
      "Epoch 00007: val_acc did not improve from 0.99227\n",
      "Epoch 8/15\n",
      "1527/1526 [==============================] - 1005s 658ms/step - loss: 0.0485 - acc: 0.9882 - val_loss: 0.0540 - val_acc: 0.9875\n",
      "\n",
      "Epoch 00008: val_acc did not improve from 0.99227\n",
      "Epoch 9/15\n",
      "1527/1526 [==============================] - 1013s 663ms/step - loss: 0.0510 - acc: 0.9883 - val_loss: 0.0319 - val_acc: 0.9921\n",
      "\n",
      "Epoch 00009: val_acc did not improve from 0.99227\n",
      "Epoch 10/15\n",
      "1527/1526 [==============================] - 996s 652ms/step - loss: 0.0533 - acc: 0.9886 - val_loss: 0.0535 - val_acc: 0.9866\n",
      "\n",
      "Epoch 00010: val_acc did not improve from 0.99227\n",
      "Epoch 11/15\n",
      "1527/1526 [==============================] - 1005s 658ms/step - loss: 0.0521 - acc: 0.9892 - val_loss: 0.0425 - val_acc: 0.9919\n",
      "\n",
      "Epoch 00011: val_acc did not improve from 0.99227\n",
      "Epoch 12/15\n",
      "1527/1526 [==============================] - 991s 649ms/step - loss: 0.0510 - acc: 0.9895 - val_loss: 0.0267 - val_acc: 0.9943\n",
      "\n",
      "Epoch 00012: val_acc improved from 0.99227 to 0.99430, saving model to weights/VGG16_onlycropdetect/vgg16_onlycropdetect__best.hdf5\n",
      "Epoch 13/15\n",
      "1527/1526 [==============================] - 1008s 660ms/step - loss: 0.0484 - acc: 0.9902 - val_loss: 0.0323 - val_acc: 0.9948\n",
      "\n",
      "Epoch 00013: val_acc improved from 0.99430 to 0.99485, saving model to weights/VGG16_onlycropdetect/vgg16_onlycropdetect__best.hdf5\n",
      "Epoch 14/15\n",
      "1527/1526 [==============================] - 992s 650ms/step - loss: 0.0477 - acc: 0.9904 - val_loss: 0.0435 - val_acc: 0.9921\n",
      "\n",
      "Epoch 00014: val_acc did not improve from 0.99485\n",
      "Epoch 15/15\n",
      "1527/1526 [==============================] - 1006s 659ms/step - loss: 0.0543 - acc: 0.9901 - val_loss: 0.0351 - val_acc: 0.9950\n",
      "\n",
      "Epoch 00015: val_acc improved from 0.99485 to 0.99503, saving model to weights/VGG16_onlycropdetect/vgg16_onlycropdetect__best.hdf5\n"
     ]
    }
   ],
   "source": [
    "# Train the model\n",
    "history = model.fit_generator(\n",
    "      train_generator,\n",
    "      steps_per_epoch=train_generator.samples/train_generator.batch_size ,\n",
    "      epochs=15,\n",
    "      validation_data=validation_generator,\n",
    "      validation_steps=validation_generator.samples/validation_generator.batch_size,\n",
    "      callbacks=[checkpoint],\n",
    "      verbose=1)\n",
    "model.save('weights/VGG16_onlycropdetect/vgg16_onlycropdetect.h5')"
   ]
  },
  {
   "cell_type": "code",
   "execution_count": 39,
   "metadata": {},
   "outputs": [],
   "source": [
    "# Compile the model\n",
    "model.compile(loss='categorical_crossentropy',\n",
    "              optimizer=optimizers.RMSprop(lr=1e-6),\n",
    "              metrics=['acc'])"
   ]
  },
  {
   "cell_type": "code",
   "execution_count": 40,
   "metadata": {},
   "outputs": [
    {
     "name": "stdout",
     "output_type": "stream",
     "text": [
      "WARNING:tensorflow:From D:\\programs\\anaconda\\envs\\dl\\lib\\site-packages\\tensorflow\\python\\ops\\math_ops.py:3066: to_int32 (from tensorflow.python.ops.math_ops) is deprecated and will be removed in a future version.\n",
      "Instructions for updating:\n",
      "Use tf.cast instead.\n",
      "Epoch 1/4\n",
      "1527/1526 [==============================] - 1786s 1s/step - loss: 0.0151 - acc: 0.9969 - val_loss: 0.0296 - val_acc: 0.9950\n",
      "\n",
      "Epoch 00001: val_acc improved from -inf to 0.99503, saving model to weights/VGG16_onlycropdetect/vgg16_onlycropdetect__best.hdf5\n",
      "Epoch 2/4\n",
      "1527/1526 [==============================] - 1012s 663ms/step - loss: 0.0161 - acc: 0.9971 - val_loss: 0.0279 - val_acc: 0.9954\n",
      "\n",
      "Epoch 00002: val_acc improved from 0.99503 to 0.99540, saving model to weights/VGG16_onlycropdetect/vgg16_onlycropdetect__best.hdf5\n",
      "Epoch 3/4\n",
      "1527/1526 [==============================] - 1014s 664ms/step - loss: 0.0142 - acc: 0.9971 - val_loss: 0.0289 - val_acc: 0.9952\n",
      "\n",
      "Epoch 00003: val_acc did not improve from 0.99540\n",
      "Epoch 4/4\n",
      "1527/1526 [==============================] - 1017s 666ms/step - loss: 0.0147 - acc: 0.9968 - val_loss: 0.0258 - val_acc: 0.9956\n",
      "\n",
      "Epoch 00004: val_acc improved from 0.99540 to 0.99558, saving model to weights/VGG16_onlycropdetect/vgg16_onlycropdetect__best.hdf5\n"
     ]
    }
   ],
   "source": [
    "# Train the model\n",
    "history = model.fit_generator(\n",
    "      train_generator,\n",
    "      steps_per_epoch=train_generator.samples/train_generator.batch_size ,\n",
    "      epochs=4,\n",
    "      validation_data=validation_generator,\n",
    "      validation_steps=validation_generator.samples/validation_generator.batch_size,\n",
    "      callbacks=[checkpoint],\n",
    "      verbose=1)\n",
    "model.save('weights/VGG16_onlycropdetect/vgg16_onlycropdetect.h5')"
   ]
  },
  {
   "cell_type": "code",
   "execution_count": 41,
   "metadata": {},
   "outputs": [],
   "source": [
    "# serialize model to JSON\n",
    "model_json = model.to_json()\n",
    "with open(\"weights/VGG16_onlycropdetect/VGG16_onlycropdetect_model.json\", \"w\") as json_file:\n",
    "    json_file.write(model_json)"
   ]
  },
  {
   "cell_type": "code",
   "execution_count": 42,
   "metadata": {},
   "outputs": [],
   "source": [
    "# Save the model\n",
    "model.save('weights/VGG16_onlycropdetect/vgg16_onlycropdetect.h5')"
   ]
  },
  {
   "cell_type": "code",
   "execution_count": null,
   "metadata": {},
   "outputs": [],
   "source": []
  },
  {
   "cell_type": "code",
   "execution_count": null,
   "metadata": {},
   "outputs": [],
   "source": []
  },
  {
   "cell_type": "code",
   "execution_count": null,
   "metadata": {},
   "outputs": [],
   "source": []
  },
  {
   "cell_type": "code",
   "execution_count": null,
   "metadata": {},
   "outputs": [],
   "source": []
  },
  {
   "cell_type": "code",
   "execution_count": null,
   "metadata": {},
   "outputs": [],
   "source": []
  },
  {
   "cell_type": "code",
   "execution_count": null,
   "metadata": {},
   "outputs": [],
   "source": []
  },
  {
   "cell_type": "code",
   "execution_count": null,
   "metadata": {},
   "outputs": [],
   "source": []
  },
  {
   "cell_type": "code",
   "execution_count": null,
   "metadata": {},
   "outputs": [],
   "source": []
  },
  {
   "cell_type": "markdown",
   "metadata": {},
   "source": [
    "## Visualising val_acc and train_acc curves"
   ]
  },
  {
   "cell_type": "code",
   "execution_count": 43,
   "metadata": {},
   "outputs": [],
   "source": [
    "import matplotlib.pyplot as plt"
   ]
  },
  {
   "cell_type": "code",
   "execution_count": 44,
   "metadata": {},
   "outputs": [
    {
     "data": {
      "image/png": "[encoded data removed]",
      "text/plain": [
       "<Figure size 432x288 with 1 Axes>"
      ]
     },
     "metadata": {
      "needs_background": "light"
     },
     "output_type": "display_data"
    },
    {
     "data": {
      "image/png": "[encoded data removed]",
      "text/plain": [
       "<Figure size 432x288 with 1 Axes>"
      ]
     },
     "metadata": {
      "needs_background": "light"
     },
     "output_type": "display_data"
    }
   ],
   "source": [
    "acc = history.history['acc']\n",
    "val_acc = history.history['val_acc']\n",
    "loss = history.history['loss']\n",
    "val_loss = history.history['val_loss']\n",
    " \n",
    "epochs = range(len(acc))\n",
    " \n",
    "plt.plot(epochs, acc, 'b', label='Training acc')\n",
    "plt.plot(epochs, val_acc, 'r', label='Validation acc')\n",
    "plt.title('Training and validation accuracy')\n",
    "plt.legend()\n",
    " \n",
    "plt.figure()\n",
    " \n",
    "plt.plot(epochs, loss, 'b', label='Training loss')\n",
    "plt.plot(epochs, val_loss, 'r', label='Validation loss')\n",
    "plt.title('Training and validation loss')\n",
    "plt.legend()\n",
    " \n",
    "plt.show()"
   ]
  },
  {
   "cell_type": "markdown",
   "metadata": {},
   "source": [
    "### let us visually see the errors that we got."
   ]
  },
  {
   "cell_type": "code",
   "execution_count": 45,
   "metadata": {},
   "outputs": [
    {
     "name": "stdout",
     "output_type": "stream",
     "text": [
      "Found 5436 images belonging to 14 classes.\n",
      "544/543 [==============================] - 96s 177ms/step\n"
     ]
    }
   ],
   "source": [
    "# Create a generator for prediction\n",
    "validation_generator = validation_datagen.flow_from_directory(\n",
    "        val_dir,\n",
    "        target_size=(256, 256),\n",
    "        batch_size=val_batchsize,\n",
    "        class_mode='categorical',\n",
    "        shuffle=False)\n",
    " \n",
    "# Get the filenames from the generator\n",
    "fnames = validation_generator.filenames\n",
    " \n",
    "# Get the ground truth from generator\n",
    "ground_truth = validation_generator.classes\n",
    " \n",
    "# Get the label to class mapping from the generator\n",
    "label2index = validation_generator.class_indices\n",
    " \n",
    "# Getting the mapping from class index to class label\n",
    "idx2label = dict((v,k) for k,v in label2index.items())\n",
    " \n",
    "# Get the predictions from the model using the generator\n",
    "predictions = model.predict_generator(validation_generator, steps=validation_generator.samples/validation_generator.batch_size,verbose=1) \n"
   ]
  },
  {
   "cell_type": "code",
   "execution_count": null,
   "metadata": {},
   "outputs": [],
   "source": []
  },
  {
   "cell_type": "markdown",
   "metadata": {},
   "source": [
    "## Predict Output"
   ]
  },
  {
   "cell_type": "code",
   "execution_count": 58,
   "metadata": {},
   "outputs": [
    {
     "name": "stdout",
     "output_type": "stream",
     "text": [
      "Loaded model from disk\n"
     ]
    }
   ],
   "source": [
    "# load json and create model\n",
    "from keras.models import model_from_json\n",
    "json_file = open('weights/VGG16_onlycropdetect/VGG16_onlycropdetect_model.json', 'r')\n",
    "loaded_model_json = json_file.read()\n",
    "json_file.close()\n",
    "model = model_from_json(loaded_model_json)\n",
    "# load weights into new model\n",
    "model.load_weights(\"weights/VGG16_onlycropdetect/vgg16_onlycropdetect__best.hdf5\")\n",
    "print(\"Loaded model from disk\")"
   ]
  },
  {
   "cell_type": "code",
   "execution_count": 61,
   "metadata": {},
   "outputs": [
    {
     "name": "stdout",
     "output_type": "stream",
     "text": [
      "_________________________________________________________________\n",
      "Layer (type)                 Output Shape              Param #   \n",
      "=================================================================\n",
      "input_1 (InputLayer)         (None, 256, 256, 3)       0         \n",
      "_________________________________________________________________\n",
      "block1_conv1 (Conv2D)        (None, 256, 256, 64)      1792      \n",
      "_________________________________________________________________\n",
      "block1_conv2 (Conv2D)        (None, 256, 256, 64)      36928     \n",
      "_________________________________________________________________\n",
      "block1_pool (MaxPooling2D)   (None, 128, 128, 64)      0         \n",
      "_________________________________________________________________\n",
      "block2_conv1 (Conv2D)        (None, 128, 128, 128)     73856     \n",
      "_________________________________________________________________\n",
      "block2_conv2 (Conv2D)        (None, 128, 128, 128)     147584    \n",
      "_________________________________________________________________\n",
      "block2_pool (MaxPooling2D)   (None, 64, 64, 128)       0         \n",
      "_________________________________________________________________\n",
      "block3_conv1 (Conv2D)        (None, 64, 64, 256)       295168    \n",
      "_________________________________________________________________\n",
      "block3_conv2 (Conv2D)        (None, 64, 64, 256)       590080    \n",
      "_________________________________________________________________\n",
      "block3_conv3 (Conv2D)        (None, 64, 64, 256)       590080    \n",
      "_________________________________________________________________\n",
      "block3_pool (MaxPooling2D)   (None, 32, 32, 256)       0         \n",
      "_________________________________________________________________\n",
      "block4_conv1 (Conv2D)        (None, 32, 32, 512)       1180160   \n",
      "_________________________________________________________________\n",
      "block4_conv2 (Conv2D)        (None, 32, 32, 512)       2359808   \n",
      "_________________________________________________________________\n",
      "block4_conv3 (Conv2D)        (None, 32, 32, 512)       2359808   \n",
      "_________________________________________________________________\n",
      "block4_pool (MaxPooling2D)   (None, 16, 16, 512)       0         \n",
      "_________________________________________________________________\n",
      "block5_conv1 (Conv2D)        (None, 16, 16, 512)       2359808   \n",
      "_________________________________________________________________\n",
      "block5_conv2 (Conv2D)        (None, 16, 16, 512)       2359808   \n",
      "_________________________________________________________________\n",
      "block5_conv3 (Conv2D)        (None, 16, 16, 512)       2359808   \n",
      "_________________________________________________________________\n",
      "block5_pool (MaxPooling2D)   (None, 8, 8, 512)         0         \n",
      "_________________________________________________________________\n",
      "global_average_pooling2d_1 ( (None, 512)               0         \n",
      "_________________________________________________________________\n",
      "dense_1 (Dense)              (None, 1024)              525312    \n",
      "_________________________________________________________________\n",
      "dropout_1 (Dropout)          (None, 1024)              0         \n",
      "_________________________________________________________________\n",
      "dense_2 (Dense)              (None, 256)               262400    \n",
      "_________________________________________________________________\n",
      "dropout_2 (Dropout)          (None, 256)               0         \n",
      "_________________________________________________________________\n",
      "dense_3 (Dense)              (None, 14)                3598      \n",
      "=================================================================\n",
      "Total params: 15,505,998\n",
      "Trainable params: 5,510,926\n",
      "Non-trainable params: 9,995,072\n",
      "_________________________________________________________________\n"
     ]
    }
   ],
   "source": [
    "model.summary()"
   ]
  },
  {
   "cell_type": "code",
   "execution_count": 62,
   "metadata": {},
   "outputs": [],
   "source": [
    "import cv2\n",
    "from tqdm import tqdm\n",
    "import itertools\n",
    "import numpy as np\n",
    "import matplotlib.pyplot as plt\n",
    "import json"
   ]
  },
  {
   "cell_type": "code",
   "execution_count": 63,
   "metadata": {},
   "outputs": [],
   "source": [
    "im = cv2.imread(\"test images/orange_han.jpg\")"
   ]
  },
  {
   "cell_type": "code",
   "execution_count": 64,
   "metadata": {},
   "outputs": [
    {
     "data": {
      "image/png": "[encoded data removed]",
      "text/plain": [
       "<Figure size 432x288 with 1 Axes>"
      ]
     },
     "metadata": {
      "needs_background": "light"
     },
     "output_type": "display_data"
    }
   ],
   "source": [
    "im = cv2.resize(cv2.cvtColor(im, cv2.COLOR_BGR2RGB), (256, 256))\n",
    "plt.imshow(im)\n",
    "im = np.expand_dims(im, axis =0)\n",
    "im=cv2.normalize(im.astype('float'), None, 0.0, 1.0, cv2.NORM_MINMAX)"
   ]
  },
  {
   "cell_type": "code",
   "execution_count": null,
   "metadata": {},
   "outputs": [],
   "source": []
  },
  {
   "cell_type": "code",
   "execution_count": null,
   "metadata": {},
   "outputs": [],
   "source": []
  },
  {
   "cell_type": "code",
   "execution_count": 65,
   "metadata": {},
   "outputs": [
    {
     "data": {
      "text/plain": [
       "array([[8.8883501e-31, 1.2987590e-31, 2.7165533e-28, 6.7914301e-36,\n",
       "        0.0000000e+00, 1.0000000e+00, 6.8688564e-31, 3.1849315e-25,\n",
       "        1.0634741e-33, 0.0000000e+00, 5.0728103e-35, 0.0000000e+00,\n",
       "        0.0000000e+00, 1.3411343e-27]], dtype=float32)"
      ]
     },
     "execution_count": 65,
     "metadata": {},
     "output_type": "execute_result"
    }
   ],
   "source": [
    "model.predict(im)"
   ]
  },
  {
   "cell_type": "code",
   "execution_count": 66,
   "metadata": {},
   "outputs": [],
   "source": [
    "outcome=model.predict(im)"
   ]
  },
  {
   "cell_type": "code",
   "execution_count": 67,
   "metadata": {},
   "outputs": [
    {
     "data": {
      "text/plain": [
       "1.0"
      ]
     },
     "execution_count": 67,
     "metadata": {},
     "output_type": "execute_result"
    }
   ],
   "source": [
    "sum(outcome[0])"
   ]
  },
  {
   "cell_type": "code",
   "execution_count": 68,
   "metadata": {},
   "outputs": [
    {
     "data": {
      "text/plain": [
       "5"
      ]
     },
     "execution_count": 68,
     "metadata": {},
     "output_type": "execute_result"
    }
   ],
   "source": [
    "np.argmax(outcome)"
   ]
  },
  {
   "cell_type": "code",
   "execution_count": 69,
   "metadata": {},
   "outputs": [],
   "source": [
    "with open('crop_labels.json', 'r') as fp:\n",
    "    data = json.load(fp)"
   ]
  },
  {
   "cell_type": "code",
   "execution_count": 70,
   "metadata": {},
   "outputs": [
    {
     "data": {
      "text/plain": [
       "'orange'"
      ]
     },
     "execution_count": 70,
     "metadata": {},
     "output_type": "execute_result"
    }
   ],
   "source": [
    "data[str(np.argmax(outcome))]"
   ]
  },
  {
   "cell_type": "code",
   "execution_count": null,
   "metadata": {},
   "outputs": [],
   "source": []
  },
  {
   "cell_type": "code",
   "execution_count": null,
   "metadata": {},
   "outputs": [],
   "source": []
  }
 ],
 "metadata": {
  "kernelspec": {
   "display_name": "TensorFlow-GPU-1.13",
   "language": "python",
   "name": "dl"
  },
  "language_info": {
   "codemirror_mode": {
    "name": "ipython",
    "version": 3
   },
   "file_extension": ".py",
   "mimetype": "text/x-python",
   "name": "python",
   "nbconvert_exporter": "python",
   "pygments_lexer": "ipython3",
   "version": "3.7.3"
  }
 },
 "nbformat": 4,
 "nbformat_minor": 2
}
